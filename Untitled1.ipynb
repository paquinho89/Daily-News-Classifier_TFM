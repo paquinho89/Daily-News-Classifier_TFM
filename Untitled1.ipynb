{
 "cells": [
  {
   "cell_type": "markdown",
   "metadata": {},
   "source": [
    "# Procesamiento de lenguaje natural para un text en concreto."
   ]
  },
  {
   "cell_type": "markdown",
   "metadata": {},
   "source": [
    "textblob: otro módulo para tareas de PLN (NLTK + pattern)\n",
    "\n",
    "textblob es una librería de procesamiento del texto para Python que permite realizar tareas de Procesamiento del Lenguaje Natural como análisis morfológico, extracción de entidades, análisis de opinión, traducción automática, etc.\n",
    "\n",
    "Está construida sobre otras dos librerías muy famosas de Python: NLTK y pattern. La principal ventaja de textblob es que permite combinar el uso de las dos herramientas anteriores en un interfaz más simple.\n",
    "\n",
    "Vamos a apoyarnos en este tutorial para aprender a utilizar algunas de sus funcionalidades más llamativas.\n",
    "\n",
    "Lo primero es importar el objeto TextBlob que nos permite acceder a todas las herramentas que incluye.\n",
    "\n",
    "TextBlob solo funciona en inglés.\n"
   ]
  },
  {
   "cell_type": "code",
   "execution_count": 1,
   "metadata": {},
   "outputs": [],
   "source": [
    "text_news=\"Robbie Rotten, has died aged 43 from cancer. Stefansson was best known for his role on the children's show, which was produced from 2004 to 2014. He was initially diagnosed with pancreatic cancer in 2016, but said it had been removed with surgery. He often shared his treatment and progress with fans online on social media - announcing in March the disease had returned and was inoperable. \\\"It's not until they tell you you're going to die soon that you realise how short life is. Time is the most valuable thing in life because it never comes back. And whether you spend it in the arms of a loved one or alone in a prison cell, life is what you make of it. Dream big,\\\" he posted to Twitter. In June his wife Steinunn Olina revealed the father-of-four's cancer was in its final stages. All done with chemo for now. \\xed��\\xed�\\u008a #allover #happy #happyplantdad A post shared by  Stefán Karl Stefánsson (@stefanssonkarl) on Feb 22, 2017 at 12:56pm PST End of Instagram post  by stefanssonkarl A post on Tuesday paid tribute to her husband, and said the family would follow his wishes to scatter his remains at sea. \\\"Stefan's family wants to express their gratitude for the support and warmth received in recent years, and to express their deepest sympathy to the many friends and fans of Stefan Karl,\\\" she posted. The actor spent his early career working in film and theatre - playing the title role in How the Grinch Stole Christmas in the US from 2008-2015. LazyTown was produced from 2004-2007, with more episodes made in 2013 and 2014. It followed the life of a pink-haired eight-year-old girl named Stephanie and her superhero companion Sportacus, who attempt to liven up an inactive town she moved to. The character of Robbie Rotten was the show's villain and attempted to thwart their schemes, preferring to stay unhealthy. The show, produced in Iceland, was translated into dozens of languages and aired in more than 180 countries worldwide. Fans who grew up with the show shared their sadness at the news of Stefansson's death on social media. This has been literally the saddest day on the internet since Satoru Iwata passed away. Rest in Piece, Stefan Karl (aka Robbie Rotten). End of Twitter post  by @mayhem_crimson I spent many hours with my younger siblings watching you years ago and ive lost count of how many times you made us laugh and smile uncontrollably. Thank you for all the joy you brought us and people everywhere. Rest in Peace Robbie Rotten. pic.twitter.com/0lXwMc7miX End of Twitter post  by @smg4official Farewell, Robbie Rotten. Hope you finally get to be lazy without those pesky kids exercising around you 24/7. You were a fantastic, funny character. RIP Stefan Karl Stefansson pic.twitter.com/A9GazKA0sL End of Twitter post  by @EpicVoiceGuy The character's popularity has continued online in recent years, where his exuberant facial expressions are frequently used in memes. Michael Cohen admitted violating campaign finance laws, but Mr Trump says he has\"\n"
   ]
  },
  {
   "cell_type": "code",
   "execution_count": 2,
   "metadata": {},
   "outputs": [
    {
     "name": "stdout",
     "output_type": "stream",
     "text": [
      "Looking in indexes: https://pypi.org/simple, https://packagecloud.io/github/git-lfs/pypi/simple\n",
      "Requirement already satisfied: textblob in /home/dsc/anaconda3/lib/python3.6/site-packages (0.15.1)\n",
      "Requirement already satisfied: nltk>=3.1 in /home/dsc/anaconda3/lib/python3.6/site-packages (from textblob) (3.2.5)\n",
      "Requirement already satisfied: six in /home/dsc/anaconda3/lib/python3.6/site-packages (from nltk>=3.1->textblob) (1.11.0)\n",
      "\u001b[33mYou are using pip version 10.0.1, however version 18.1 is available.\n",
      "You should consider upgrading via the 'pip install --upgrade pip' command.\u001b[0m\n"
     ]
    }
   ],
   "source": [
    "#Téñome que itr a consola e instalala. Para eso teño que por 'pip install textblob'. O pip son gestores de paquetes para \n",
    "#ter aas lbrerías instaladas rapidamente\n",
    "\n",
    "!pip install textblob"
   ]
  },
  {
   "cell_type": "code",
   "execution_count": 13,
   "metadata": {},
   "outputs": [],
   "source": [
    "from textblob import TextBlob\n",
    "from collections import Counter\n",
    "import matplotlib.pyplot as plt\n",
    "import pandas as pd\n",
    "import numpy as np"
   ]
  },
  {
   "cell_type": "code",
   "execution_count": 4,
   "metadata": {},
   "outputs": [
    {
     "name": "stdout",
     "output_type": "stream",
     "text": [
      "508\n",
      "28\n",
      "[Sentence(\"Robbie Rotten, has died aged 43 from cancer.\"), Sentence(\"Stefansson was best known for his role on the children's show, which was produced from 2004 to 2014.\"), Sentence(\"He was initially diagnosed with pancreatic cancer in 2016, but said it had been removed with surgery.\"), Sentence(\"He often shared his treatment and progress with fans online on social media - announcing in March the disease had returned and was inoperable.\"), Sentence(\"\"It's not until they tell you you're going to die soon that you realise how short life is.\"), Sentence(\"Time is the most valuable thing in life because it never comes back.\"), Sentence(\"And whether you spend it in the arms of a loved one or alone in a prison cell, life is what you make of it.\"), Sentence(\"Dream big,\" he posted to Twitter.\"), Sentence(\"In June his wife Steinunn Olina revealed the father-of-four's cancer was in its final stages.\"), Sentence(\"All done with chemo for now.\"), Sentence(\"í��í� #allover #happy #happyplantdad A post shared by  Stefán Karl Stefánsson (@stefanssonkarl) on Feb 22, 2017 at 12:56pm PST End of Instagram post  by stefanssonkarl A post on Tuesday paid tribute to her husband, and said the family would follow his wishes to scatter his remains at sea.\"), Sentence(\"\"Stefan's family wants to express their gratitude for the support and warmth received in recent years, and to express their deepest sympathy to the many friends and fans of Stefan Karl,\" she posted.\"), Sentence(\"The actor spent his early career working in film and theatre - playing the title role in How the Grinch Stole Christmas in the US from 2008-2015.\"), Sentence(\"LazyTown was produced from 2004-2007, with more episodes made in 2013 and 2014.\"), Sentence(\"It followed the life of a pink-haired eight-year-old girl named Stephanie and her superhero companion Sportacus, who attempt to liven up an inactive town she moved to.\"), Sentence(\"The character of Robbie Rotten was the show's villain and attempted to thwart their schemes, preferring to stay unhealthy.\"), Sentence(\"The show, produced in Iceland, was translated into dozens of languages and aired in more than 180 countries worldwide.\"), Sentence(\"Fans who grew up with the show shared their sadness at the news of Stefansson's death on social media.\"), Sentence(\"This has been literally the saddest day on the internet since Satoru Iwata passed away.\"), Sentence(\"Rest in Piece, Stefan Karl (aka Robbie Rotten).\"), Sentence(\"End of Twitter post  by @mayhem_crimson I spent many hours with my younger siblings watching you years ago and ive lost count of how many times you made us laugh and smile uncontrollably.\"), Sentence(\"Thank you for all the joy you brought us and people everywhere.\"), Sentence(\"Rest in Peace Robbie Rotten.\"), Sentence(\"pic.twitter.com/0lXwMc7miX End of Twitter post  by @smg4official Farewell, Robbie Rotten.\"), Sentence(\"Hope you finally get to be lazy without those pesky kids exercising around you 24/7.\"), Sentence(\"You were a fantastic, funny character.\"), Sentence(\"RIP Stefan Karl Stefansson pic.twitter.com/A9GazKA0sL End of Twitter post  by @EpicVoiceGuy The character's popularity has continued online in recent years, where his exuberant facial expressions are frequently used in memes.\"), Sentence(\"Michael Cohen admitted violating campaign finance laws, but Mr Trump says he has\")]\n"
     ]
    }
   ],
   "source": [
    "text_news_2 = TextBlob(text_news)\n",
    "#Número de frases\n",
    "print(len(text_news_2.words))\n",
    "#Númer de palabras\n",
    "print(len(text_news_2.sentences))\n",
    "print(text_news_2.sentences)"
   ]
  },
  {
   "cell_type": "code",
   "execution_count": 5,
   "metadata": {},
   "outputs": [],
   "source": [
    "words_analysis = text_news_2.parse().split()"
   ]
  },
  {
   "cell_type": "code",
   "execution_count": 10,
   "metadata": {},
   "outputs": [
    {
     "data": {
      "text/plain": [
       "Counter({'CC': 18,\n",
       "         'CD': 13,\n",
       "         'DT': 33,\n",
       "         'IN': 74,\n",
       "         'JJ': 28,\n",
       "         'JJR': 3,\n",
       "         'JJS': 2,\n",
       "         'MD': 1,\n",
       "         'NN': 85,\n",
       "         'NNP': 52,\n",
       "         'NNS': 25,\n",
       "         'POS': 8,\n",
       "         'PRP': 36,\n",
       "         'PRP$': 15,\n",
       "         'RB': 15,\n",
       "         'RBS': 1,\n",
       "         'TO': 13,\n",
       "         'UH': 1,\n",
       "         'VB': 14,\n",
       "         'VBD': 29,\n",
       "         'VBG': 8,\n",
       "         'VBN': 23,\n",
       "         'VBP': 3,\n",
       "         'VBZ': 12,\n",
       "         'WDT': 1,\n",
       "         'WP': 3,\n",
       "         'WRB': 4})"
      ]
     },
     "execution_count": 10,
     "metadata": {},
     "output_type": "execute_result"
    }
   ],
   "source": [
    "#Creamos o noso propio contador\n",
    "\n",
    "\n",
    "class_word=[]\n",
    "for i0 in words_analysis:\n",
    "    #print(i0)\n",
    "    for i1 in i0:\n",
    "        class_word.append(i1[1])\n",
    "count_class_word=Counter(class_word)\n",
    "\n",
    "#Eliminamos os símbolos de puntuación e toda a fargallada\n",
    "symbols = '''@\"{}()[].,:;+-*/&|'<>=~#$%€\\ºª_?¿!¡'''\n",
    "\n",
    "for x in symbols:\n",
    "    if x in count_class_word:\n",
    "        del count_class_word[x]  \n",
    "count_class_word"
   ]
  },
  {
   "cell_type": "code",
   "execution_count": 15,
   "metadata": {},
   "outputs": [
    {
     "data": {
      "text/plain": [
       "<Figure size 1080x1080 with 0 Axes>"
      ]
     },
     "execution_count": 15,
     "metadata": {},
     "output_type": "execute_result"
    },
    {
     "data": {
      "image/png": "[encoded data removed]",
      "text/plain": [
       "<Figure size 432x288 with 1 Axes>"
      ]
     },
     "metadata": {},
     "output_type": "display_data"
    },
    {
     "data": {
      "text/plain": [
       "<Figure size 1080x1080 with 0 Axes>"
      ]
     },
     "metadata": {},
     "output_type": "display_data"
    }
   ],
   "source": [
    "\n",
    "#Collemos os items do number_class_word e facemos unha lista para despois representalos\n",
    "list_class_word=list((count_class_word.items()))\n",
    "#Ordenamos os datos\n",
    "list_class_word_sorted=sorted(list_class_word, key=lambda x: x[1], reverse=True)\n",
    "\n",
    "#Pomos as etiquetas\n",
    "tag_words={'CC':'coordinating conjunction', 'CD':'cardinal digit', 'DT':'determiner',\n",
    "          'EX':'existential there', 'FW':'foreign word', 'IN':'preposition/subordinating conjunction',\n",
    "          'JJ':'adjective', 'JJR':'adjective, comparative', 'JJS':'adjective, superlative',\n",
    "          'LS':'list marker','MD':'modal', 'NN':'noun, singular', 'NNS':'noun plural',\n",
    "          'NNP':'proper noun, singular', 'NNPS':'proper noun, plural','PDT':'predeterminer',\n",
    "          'POS':'possessive ending','PRP':'personal pronoun','PRP$':'possessive pronoun',\n",
    "          'RB':'adver','RBR':'adverb, comparative','RBS':'adverb, superlative', 'RP':'particle',\n",
    "          'TO':'to','UH':'interjection','VB':'verb, base form','VBD':'verb, past tense',\n",
    "          'VBG':'verb, gerund/present participle','VBN':'verb, past participle',\n",
    "          'VBP':'verb, sing. present, non-3d','VBZ':'verb, 3rd person sing. present',\n",
    "          'WDT':'wh-determiner','WP':'wh-pronoun','WP$':'possessive wh-pronoun','WRB':'wh-abverb'}\n",
    "\n",
    "plt.bar([tag_words.get(label)for label in[label[0] for label in list_class_word]], [label[1] for label in list_class_word_sorted])\n",
    "plt.xticks(rotation='vertical')\n",
    "\n",
    "plt.figure(figsize=(15,15))"
   ]
  },
  {
   "cell_type": "markdown",
   "metadata": {},
   "source": [
    "For more information relating to the kind of word\n",
    "POS tag list:\n",
    "\n",
    "CC coordinating conjunction\n",
    "CD cardinal digit\n",
    "DT determiner\n",
    "EX existential there (like: \"there is\" ... think of it like \"there exists\")\n",
    "FW foreign word\n",
    "IN preposition/subordinating conjunction\n",
    "JJ adjective 'big'\n",
    "JJR adjective, comparative 'bigger'\n",
    "JJS adjective, superlative 'biggest'\n",
    "LS list marker 1)\n",
    "MD modal could, will\n",
    "NN noun, singular 'desk'\n",
    "NNS noun plural 'desks'\n",
    "NNP proper noun, singular 'Harrison'\n",
    "NNPS proper noun, plural 'Americans'\n",
    "PDT predeterminer 'all the kids'\n",
    "POS possessive ending parent\\'s\n",
    "PRP personal pronoun I, he, she\n",
    "PRPpossessivepronounmy,his,hers<br>RBadverbvery,silently,<br>RBRadverb,comparativebetter<br>RBSadverb,superlativebest<br>RPparticlegiveup<br>TOtogo′to′thestore.<br>UHinterjectionerrrrrrrrm<br>VBverb,baseformtake<br>VBDverb,pasttensetook<br>VBGverb,gerund/presentparticipletaking<br>VBNverb,pastparticipletaken<br>VBPverb,sing.present,non−3dtake<br>VBZverb,3rdpersonsing.presenttakes<br>WDTwh−determinerwhich<br>WPwh−pronounwho,what<br>WPpossessivepronounmy,his,hers<br>RBadverbvery,silently,<br>RBRadverb,comparativebetter<br>RBSadverb,superlativebest<br>RPparticlegiveup<br>TOtogo′to′thestore.<br>UHinterjectionerrrrrrrrm<br>VBverb,baseformtake<br>VBDverb,pasttensetook<br>VBGverb,gerund/presentparticipletaking<br>VBNverb,pastparticipletaken<br>VBPverb,sing.present,non−3dtake<br>VBZverb,3rdpersonsing.presenttakes<br>WDTwh−determinerwhich<br>WPwh−pronounwho,what<br>WP possessive wh-pronoun whose\n",
    "WRB wh-abverb where, when"
   ]
  },
  {
   "cell_type": "code",
   "execution_count": 16,
   "metadata": {},
   "outputs": [
    {
     "name": "stdout",
     "output_type": "stream",
     "text": [
      "Robbie Rotten, ha fallecido a los 43 años por cáncer. Stefansson fue mejor conocido por su papel en el programa infantil, que se produjo entre 2004 y 2014. Inicialmente, se le diagnosticó cáncer de páncreas en 2016, pero dijo que se había eliminado con cirugía. A menudo compartía su tratamiento y progreso con los fanáticos en línea en las redes sociales, anunciando en marzo que la enfermedad había regresado y era inoperable. \"No es hasta que te dicen que vas a morir pronto que te das cuenta de lo corta que es la vida. El tiempo es lo más valioso en la vida porque nunca vuelve. Y si lo pasas en los brazos de un ser querido o solo\". en una celda de la prisión, la vida es lo que tú haces de ella. Sueña en grande \", publicó en Twitter. En junio, su esposa Steinunn Olina reveló que el cáncer del padre de cuatro estaba en sus etapas finales. Todo hecho con quimio por ahora. í  í  ?? #allover #happy #happyplantdad Un post compartido por Stefán Karl Stefánsson (@stefanssonkarl) el 22 de febrero de 2017 a las 12:56 pm PST Fin de Instagram post por stefanssonkarl Un post el martes rindió homenaje a su esposo y dijo que la familia lo seguiría. Desea dispersar sus restos en el mar. \"La familia de Stefan quiere expresar su gratitud por el apoyo y la calidez recibida en los últimos años, y expresar su más profunda simpatía a los muchos amigos y fanáticos de Stefan Karl\", publicó. El actor pasó su primera carrera trabajando en cine y teatro, interpretando el papel principal en How the Grinch Stole Christmas en los Estados Unidos desde 2008-2015. LazyTown se produjo entre 2004 y 2007, con más episodios en 2013 y 2014. Siguió la vida de una niña de ocho años de pelo rosa llamada Stephanie y su compañera de superhéroes Sportacus, que intenta animar una ciudad inactiva que mudó a. El personaje de Robbie Rotten fue el villano del programa y trató de frustrar sus planes, prefiriendo no ser saludable. El programa, producido en Islandia, se tradujo a docenas de idiomas y se emitió en más de 180 países en todo el mundo. Los fanáticos que crecieron con el programa compartieron su tristeza por la noticia de la muerte de Stefansson en las redes sociales. Este ha sido, literalmente, el día más triste en Internet desde que falleció Satoru Iwata. Descansa en piezas, Stefan Karl (también conocido como Robbie Rotten). Fin de la publicación de Twitter por @mayhem_crimson Pasé muchas horas con mis hermanos menores observándolos hace años y he perdido la cuenta de cuántas veces nos hiciste reír y sonreír incontrolablemente. Gracias por toda la alegría que nos trajeron y la gente en todas partes. Descansa en paz Robbie Rotten. pic.twitter.com/0lXwMc7miX Fin de la publicación de Twitter por @ smg4official Adiós, Robbie Rotten. Espero que finalmente seas perezoso sin esos niños molestos haciendo ejercicio alrededor de ti 24/7. Eras un personaje fantástico y divertido. RIP Stefan Karl Stefansson pic.twitter.com/A9GazKA0sL Fin de la publicación en Twitter por @EpicVoiceGuy La popularidad del personaje ha continuado en línea en los últimos años, donde sus exuberantes expresiones faciales se utilizan con frecuencia en los memes. Michael Cohen admitió haber violado las leyes de financiamiento de campañas, pero el Sr. Trump dice que tiene\n"
     ]
    }
   ],
   "source": [
    "text_news_2 = TextBlob(text_news)\n",
    "print(text_news_2.translate(from_lang=\"en\", to=\"es\"))\n"
   ]
  }
 ],
 "metadata": {
  "kernelspec": {
   "display_name": "Python 3",
   "language": "python",
   "name": "python3"
  },
  "language_info": {
   "codemirror_mode": {
    "name": "ipython",
    "version": 3
   },
   "file_extension": ".py",
   "mimetype": "text/x-python",
   "name": "python",
   "nbconvert_exporter": "python",
   "pygments_lexer": "ipython3",
   "version": "3.6.4"
  }
 },
 "nbformat": 4,
 "nbformat_minor": 2
}
