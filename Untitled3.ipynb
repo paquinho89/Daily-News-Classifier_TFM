{
 "cells": [
  {
   "cell_type": "code",
   "execution_count": null,
   "metadata": {},
   "outputs": [],
   "source": [
    "pip install plotly && pip install dash"
   ]
  },
  {
   "cell_type": "code",
   "execution_count": 25,
   "metadata": {},
   "outputs": [
    {
     "name": "stdout",
     "output_type": "stream",
     "text": [
      "Looking in indexes: https://pypi.org/simple, https://packagecloud.io/github/git-lfs/pypi/simple\n",
      "Requirement already satisfied: dash==0.28.5 in /home/dsc/anaconda3/lib/python3.6/site-packages (0.28.5)\n",
      "Requirement already satisfied: plotly in /home/dsc/anaconda3/lib/python3.6/site-packages (from dash==0.28.5) (3.0.0)\n",
      "Requirement already satisfied: dash-renderer in /home/dsc/anaconda3/lib/python3.6/site-packages (from dash==0.28.5) (0.14.3)\n",
      "Requirement already satisfied: Flask>=0.12 in /home/dsc/anaconda3/lib/python3.6/site-packages (from dash==0.28.5) (0.12.2)\n",
      "Requirement already satisfied: flask-compress in /home/dsc/anaconda3/lib/python3.6/site-packages (from dash==0.28.5) (1.4.0)\n",
      "Requirement already satisfied: decorator>=4.0.6 in /home/dsc/anaconda3/lib/python3.6/site-packages (from plotly->dash==0.28.5) (4.2.1)\n",
      "Requirement already satisfied: requests in /home/dsc/anaconda3/lib/python3.6/site-packages (from plotly->dash==0.28.5) (2.17.1)\n",
      "Requirement already satisfied: nbformat>=4.2 in /home/dsc/anaconda3/lib/python3.6/site-packages (from plotly->dash==0.28.5) (4.4.0)\n",
      "Requirement already satisfied: pytz in /home/dsc/anaconda3/lib/python3.6/site-packages (from plotly->dash==0.28.5) (2018.3)\n",
      "Requirement already satisfied: six in /home/dsc/anaconda3/lib/python3.6/site-packages (from plotly->dash==0.28.5) (1.11.0)\n",
      "Requirement already satisfied: retrying>=1.3.3 in /home/dsc/anaconda3/lib/python3.6/site-packages (from plotly->dash==0.28.5) (1.3.3)\n",
      "Requirement already satisfied: Werkzeug>=0.7 in /home/dsc/anaconda3/lib/python3.6/site-packages (from Flask>=0.12->dash==0.28.5) (0.14.1)\n",
      "Requirement already satisfied: Jinja2>=2.4 in /home/dsc/anaconda3/lib/python3.6/site-packages (from Flask>=0.12->dash==0.28.5) (2.10)\n",
      "Requirement already satisfied: itsdangerous>=0.21 in /home/dsc/anaconda3/lib/python3.6/site-packages (from Flask>=0.12->dash==0.28.5) (0.24)\n",
      "Requirement already satisfied: click>=2.0 in /home/dsc/anaconda3/lib/python3.6/site-packages (from Flask>=0.12->dash==0.28.5) (6.7)\n",
      "Requirement already satisfied: idna<2.6,>=2.5 in /home/dsc/anaconda3/lib/python3.6/site-packages (from requests->plotly->dash==0.28.5) (2.5)\n",
      "Requirement already satisfied: certifi>=2017.4.17 in /home/dsc/anaconda3/lib/python3.6/site-packages (from requests->plotly->dash==0.28.5) (2018.8.13)\n",
      "Requirement already satisfied: urllib3<1.22,>=1.21.1 in /home/dsc/anaconda3/lib/python3.6/site-packages (from requests->plotly->dash==0.28.5) (1.21.1)\n",
      "Requirement already satisfied: chardet<3.1.0,>=3.0.2 in /home/dsc/anaconda3/lib/python3.6/site-packages (from requests->plotly->dash==0.28.5) (3.0.4)\n",
      "Requirement already satisfied: ipython_genutils in /home/dsc/anaconda3/lib/python3.6/site-packages (from nbformat>=4.2->plotly->dash==0.28.5) (0.2.0)\n",
      "Requirement already satisfied: traitlets>=4.1 in /home/dsc/anaconda3/lib/python3.6/site-packages (from nbformat>=4.2->plotly->dash==0.28.5) (4.3.2)\n",
      "Requirement already satisfied: jsonschema!=2.5.0,>=2.4 in /home/dsc/anaconda3/lib/python3.6/site-packages (from nbformat>=4.2->plotly->dash==0.28.5) (2.6.0)\n",
      "Requirement already satisfied: jupyter_core in /home/dsc/anaconda3/lib/python3.6/site-packages (from nbformat>=4.2->plotly->dash==0.28.5) (4.4.0)\n",
      "Requirement already satisfied: MarkupSafe>=0.23 in /home/dsc/anaconda3/lib/python3.6/site-packages (from Jinja2>=2.4->Flask>=0.12->dash==0.28.5) (1.0)\n",
      "\u001b[33mYou are using pip version 10.0.1, however version 18.1 is available.\n",
      "You should consider upgrading via the 'pip install --upgrade pip' command.\u001b[0m\n",
      "Looking in indexes: https://pypi.org/simple, https://packagecloud.io/github/git-lfs/pypi/simple\n",
      "Collecting dash-html-components==0.13.2\n",
      "\u001b[?25l  Downloading https://files.pythonhosted.org/packages/bf/9b/f3e6f121641d14bb2357e7a7208b87adfc21b7cd484444799da588df14fd/dash_html_components-0.13.2.tar.gz (236kB)\n",
      "\u001b[K    100% |████████████████████████████████| 245kB 2.8MB/s ta 0:00:01\n",
      "\u001b[?25hRequirement already satisfied: dash in /home/dsc/anaconda3/lib/python3.6/site-packages (from dash-html-components==0.13.2) (0.28.5)\n",
      "Requirement already satisfied: Flask>=0.12 in /home/dsc/anaconda3/lib/python3.6/site-packages (from dash->dash-html-components==0.13.2) (0.12.2)\n",
      "Requirement already satisfied: plotly in /home/dsc/anaconda3/lib/python3.6/site-packages (from dash->dash-html-components==0.13.2) (3.0.0)\n",
      "Requirement already satisfied: dash-renderer in /home/dsc/anaconda3/lib/python3.6/site-packages (from dash->dash-html-components==0.13.2) (0.14.3)\n",
      "Requirement already satisfied: flask-compress in /home/dsc/anaconda3/lib/python3.6/site-packages (from dash->dash-html-components==0.13.2) (1.4.0)\n",
      "Requirement already satisfied: Werkzeug>=0.7 in /home/dsc/anaconda3/lib/python3.6/site-packages (from Flask>=0.12->dash->dash-html-components==0.13.2) (0.14.1)\n",
      "Requirement already satisfied: Jinja2>=2.4 in /home/dsc/anaconda3/lib/python3.6/site-packages (from Flask>=0.12->dash->dash-html-components==0.13.2) (2.10)\n",
      "Requirement already satisfied: itsdangerous>=0.21 in /home/dsc/anaconda3/lib/python3.6/site-packages (from Flask>=0.12->dash->dash-html-components==0.13.2) (0.24)\n",
      "Requirement already satisfied: click>=2.0 in /home/dsc/anaconda3/lib/python3.6/site-packages (from Flask>=0.12->dash->dash-html-components==0.13.2) (6.7)\n",
      "Requirement already satisfied: nbformat>=4.2 in /home/dsc/anaconda3/lib/python3.6/site-packages (from plotly->dash->dash-html-components==0.13.2) (4.4.0)\n",
      "Requirement already satisfied: retrying>=1.3.3 in /home/dsc/anaconda3/lib/python3.6/site-packages (from plotly->dash->dash-html-components==0.13.2) (1.3.3)\n",
      "Requirement already satisfied: six in /home/dsc/anaconda3/lib/python3.6/site-packages (from plotly->dash->dash-html-components==0.13.2) (1.11.0)\n",
      "Requirement already satisfied: requests in /home/dsc/anaconda3/lib/python3.6/site-packages (from plotly->dash->dash-html-components==0.13.2) (2.17.1)\n",
      "Requirement already satisfied: pytz in /home/dsc/anaconda3/lib/python3.6/site-packages (from plotly->dash->dash-html-components==0.13.2) (2018.3)\n",
      "Requirement already satisfied: decorator>=4.0.6 in /home/dsc/anaconda3/lib/python3.6/site-packages (from plotly->dash->dash-html-components==0.13.2) (4.2.1)\n",
      "Requirement already satisfied: MarkupSafe>=0.23 in /home/dsc/anaconda3/lib/python3.6/site-packages (from Jinja2>=2.4->Flask>=0.12->dash->dash-html-components==0.13.2) (1.0)\n",
      "Requirement already satisfied: ipython_genutils in /home/dsc/anaconda3/lib/python3.6/site-packages (from nbformat>=4.2->plotly->dash->dash-html-components==0.13.2) (0.2.0)\n",
      "Requirement already satisfied: traitlets>=4.1 in /home/dsc/anaconda3/lib/python3.6/site-packages (from nbformat>=4.2->plotly->dash->dash-html-components==0.13.2) (4.3.2)\n",
      "Requirement already satisfied: jsonschema!=2.5.0,>=2.4 in /home/dsc/anaconda3/lib/python3.6/site-packages (from nbformat>=4.2->plotly->dash->dash-html-components==0.13.2) (2.6.0)\n",
      "Requirement already satisfied: jupyter_core in /home/dsc/anaconda3/lib/python3.6/site-packages (from nbformat>=4.2->plotly->dash->dash-html-components==0.13.2) (4.4.0)\n",
      "Requirement already satisfied: urllib3<1.22,>=1.21.1 in /home/dsc/anaconda3/lib/python3.6/site-packages (from requests->plotly->dash->dash-html-components==0.13.2) (1.21.1)\n",
      "Requirement already satisfied: chardet<3.1.0,>=3.0.2 in /home/dsc/anaconda3/lib/python3.6/site-packages (from requests->plotly->dash->dash-html-components==0.13.2) (3.0.4)\n",
      "Requirement already satisfied: certifi>=2017.4.17 in /home/dsc/anaconda3/lib/python3.6/site-packages (from requests->plotly->dash->dash-html-components==0.13.2) (2018.8.13)\n",
      "Requirement already satisfied: idna<2.6,>=2.5 in /home/dsc/anaconda3/lib/python3.6/site-packages (from requests->plotly->dash->dash-html-components==0.13.2) (2.5)\n",
      "Building wheels for collected packages: dash-html-components\n",
      "  Running setup.py bdist_wheel for dash-html-components ... \u001b[?25ldone\n",
      "\u001b[?25h  Stored in directory: /home/dsc/.cache/pip/wheels/93/aa/99/a88a93e39b33d179239e0e2869bf6a093e8377bfe04e95ca8e\n",
      "Successfully built dash-html-components\n",
      "Installing collected packages: dash-html-components\n",
      "Successfully installed dash-html-components-0.13.2\n",
      "\u001b[33mYou are using pip version 10.0.1, however version 18.1 is available.\n",
      "You should consider upgrading via the 'pip install --upgrade pip' command.\u001b[0m\n"
     ]
    },
    {
     "name": "stdout",
     "output_type": "stream",
     "text": [
      "Looking in indexes: https://pypi.org/simple, https://packagecloud.io/github/git-lfs/pypi/simple\n",
      "Collecting dash-core-components==0.36.0\n",
      "\u001b[?25l  Downloading https://files.pythonhosted.org/packages/53/9b/c5b225031867cde44cd6e7a341f4d22499e532028f8fc9197115950c552f/dash_core_components-0.36.0.tar.gz (3.7MB)\n",
      "\u001b[K    100% |████████████████████████████████| 3.7MB 1.0MB/s ta 0:00:011   33% |██████████▊                     | 1.2MB 751kB/s eta 0:00:04    59% |███████████████████             | 2.2MB 3.9MB/s eta 0:00:01████    | 3.3MB 47.7MB/s eta 0:00:01\n",
      "\u001b[?25hRequirement already satisfied: dash in /home/dsc/anaconda3/lib/python3.6/site-packages (from dash-core-components==0.36.0) (0.28.5)\n",
      "Requirement already satisfied: dash-renderer in /home/dsc/anaconda3/lib/python3.6/site-packages (from dash->dash-core-components==0.36.0) (0.14.3)\n",
      "Requirement already satisfied: plotly in /home/dsc/anaconda3/lib/python3.6/site-packages (from dash->dash-core-components==0.36.0) (3.0.0)\n",
      "Requirement already satisfied: Flask>=0.12 in /home/dsc/anaconda3/lib/python3.6/site-packages (from dash->dash-core-components==0.36.0) (0.12.2)\n",
      "Requirement already satisfied: flask-compress in /home/dsc/anaconda3/lib/python3.6/site-packages (from dash->dash-core-components==0.36.0) (1.4.0)\n",
      "Requirement already satisfied: requests in /home/dsc/anaconda3/lib/python3.6/site-packages (from plotly->dash->dash-core-components==0.36.0) (2.17.1)\n",
      "Requirement already satisfied: decorator>=4.0.6 in /home/dsc/anaconda3/lib/python3.6/site-packages (from plotly->dash->dash-core-components==0.36.0) (4.2.1)\n",
      "Requirement already satisfied: nbformat>=4.2 in /home/dsc/anaconda3/lib/python3.6/site-packages (from plotly->dash->dash-core-components==0.36.0) (4.4.0)\n",
      "Requirement already satisfied: six in /home/dsc/anaconda3/lib/python3.6/site-packages (from plotly->dash->dash-core-components==0.36.0) (1.11.0)\n",
      "Requirement already satisfied: retrying>=1.3.3 in /home/dsc/anaconda3/lib/python3.6/site-packages (from plotly->dash->dash-core-components==0.36.0) (1.3.3)\n",
      "Requirement already satisfied: pytz in /home/dsc/anaconda3/lib/python3.6/site-packages (from plotly->dash->dash-core-components==0.36.0) (2018.3)\n",
      "Requirement already satisfied: Werkzeug>=0.7 in /home/dsc/anaconda3/lib/python3.6/site-packages (from Flask>=0.12->dash->dash-core-components==0.36.0) (0.14.1)\n",
      "Requirement already satisfied: Jinja2>=2.4 in /home/dsc/anaconda3/lib/python3.6/site-packages (from Flask>=0.12->dash->dash-core-components==0.36.0) (2.10)\n",
      "Requirement already satisfied: itsdangerous>=0.21 in /home/dsc/anaconda3/lib/python3.6/site-packages (from Flask>=0.12->dash->dash-core-components==0.36.0) (0.24)\n",
      "Requirement already satisfied: click>=2.0 in /home/dsc/anaconda3/lib/python3.6/site-packages (from Flask>=0.12->dash->dash-core-components==0.36.0) (6.7)\n",
      "Requirement already satisfied: urllib3<1.22,>=1.21.1 in /home/dsc/anaconda3/lib/python3.6/site-packages (from requests->plotly->dash->dash-core-components==0.36.0) (1.21.1)\n",
      "Requirement already satisfied: certifi>=2017.4.17 in /home/dsc/anaconda3/lib/python3.6/site-packages (from requests->plotly->dash->dash-core-components==0.36.0) (2018.8.13)\n",
      "Requirement already satisfied: idna<2.6,>=2.5 in /home/dsc/anaconda3/lib/python3.6/site-packages (from requests->plotly->dash->dash-core-components==0.36.0) (2.5)\n",
      "Requirement already satisfied: chardet<3.1.0,>=3.0.2 in /home/dsc/anaconda3/lib/python3.6/site-packages (from requests->plotly->dash->dash-core-components==0.36.0) (3.0.4)\n",
      "Requirement already satisfied: ipython_genutils in /home/dsc/anaconda3/lib/python3.6/site-packages (from nbformat>=4.2->plotly->dash->dash-core-components==0.36.0) (0.2.0)\n",
      "Requirement already satisfied: traitlets>=4.1 in /home/dsc/anaconda3/lib/python3.6/site-packages (from nbformat>=4.2->plotly->dash->dash-core-components==0.36.0) (4.3.2)\n",
      "Requirement already satisfied: jsonschema!=2.5.0,>=2.4 in /home/dsc/anaconda3/lib/python3.6/site-packages (from nbformat>=4.2->plotly->dash->dash-core-components==0.36.0) (2.6.0)\n",
      "Requirement already satisfied: jupyter_core in /home/dsc/anaconda3/lib/python3.6/site-packages (from nbformat>=4.2->plotly->dash->dash-core-components==0.36.0) (4.4.0)\n",
      "Requirement already satisfied: MarkupSafe>=0.23 in /home/dsc/anaconda3/lib/python3.6/site-packages (from Jinja2>=2.4->Flask>=0.12->dash->dash-core-components==0.36.0) (1.0)\n",
      "Building wheels for collected packages: dash-core-components\n",
      "  Running setup.py bdist_wheel for dash-core-components ... \u001b[?25ldone\n",
      "\u001b[?25h  Stored in directory: /home/dsc/.cache/pip/wheels/77/c6/34/cda44c6ae6af574039d212068fc2b637cde9d89b07973ce78f\n",
      "Successfully built dash-core-components\n",
      "Installing collected packages: dash-core-components\n",
      "Successfully installed dash-core-components-0.36.0\n",
      "\u001b[33mYou are using pip version 10.0.1, however version 18.1 is available.\n",
      "You should consider upgrading via the 'pip install --upgrade pip' command.\u001b[0m\n",
      "Looking in indexes: https://pypi.org/simple, https://packagecloud.io/github/git-lfs/pypi/simple\n",
      "Collecting dash-table==3.1.2\n",
      "\u001b[?25l  Downloading https://files.pythonhosted.org/packages/07/8b/4c44a9185ad72c051720b29db8451e98c3f0028edb1cfe6a88e0c3cf0e00/dash_table-3.1.2.tar.gz (68kB)\n",
      "\u001b[K    100% |████████████████████████████████| 71kB 1.4MB/s ta 0:00:01\n",
      "\u001b[?25hRequirement already satisfied: dash in /home/dsc/anaconda3/lib/python3.6/site-packages (from dash-table==3.1.2) (0.28.5)\n",
      "Requirement already satisfied: flask-compress in /home/dsc/anaconda3/lib/python3.6/site-packages (from dash->dash-table==3.1.2) (1.4.0)\n",
      "Requirement already satisfied: dash-renderer in /home/dsc/anaconda3/lib/python3.6/site-packages (from dash->dash-table==3.1.2) (0.14.3)\n",
      "Requirement already satisfied: Flask>=0.12 in /home/dsc/anaconda3/lib/python3.6/site-packages (from dash->dash-table==3.1.2) (0.12.2)\n",
      "Requirement already satisfied: plotly in /home/dsc/anaconda3/lib/python3.6/site-packages (from dash->dash-table==3.1.2) (3.0.0)\n",
      "Requirement already satisfied: Werkzeug>=0.7 in /home/dsc/anaconda3/lib/python3.6/site-packages (from Flask>=0.12->dash->dash-table==3.1.2) (0.14.1)\n",
      "Requirement already satisfied: Jinja2>=2.4 in /home/dsc/anaconda3/lib/python3.6/site-packages (from Flask>=0.12->dash->dash-table==3.1.2) (2.10)\n",
      "Requirement already satisfied: itsdangerous>=0.21 in /home/dsc/anaconda3/lib/python3.6/site-packages (from Flask>=0.12->dash->dash-table==3.1.2) (0.24)\n",
      "Requirement already satisfied: click>=2.0 in /home/dsc/anaconda3/lib/python3.6/site-packages (from Flask>=0.12->dash->dash-table==3.1.2) (6.7)\n",
      "Requirement already satisfied: requests in /home/dsc/anaconda3/lib/python3.6/site-packages (from plotly->dash->dash-table==3.1.2) (2.17.1)\n",
      "Requirement already satisfied: six in /home/dsc/anaconda3/lib/python3.6/site-packages (from plotly->dash->dash-table==3.1.2) (1.11.0)\n",
      "Requirement already satisfied: pytz in /home/dsc/anaconda3/lib/python3.6/site-packages (from plotly->dash->dash-table==3.1.2) (2018.3)\n",
      "Requirement already satisfied: decorator>=4.0.6 in /home/dsc/anaconda3/lib/python3.6/site-packages (from plotly->dash->dash-table==3.1.2) (4.2.1)\n",
      "Requirement already satisfied: retrying>=1.3.3 in /home/dsc/anaconda3/lib/python3.6/site-packages (from plotly->dash->dash-table==3.1.2) (1.3.3)\n",
      "Requirement already satisfied: nbformat>=4.2 in /home/dsc/anaconda3/lib/python3.6/site-packages (from plotly->dash->dash-table==3.1.2) (4.4.0)\n",
      "Requirement already satisfied: MarkupSafe>=0.23 in /home/dsc/anaconda3/lib/python3.6/site-packages (from Jinja2>=2.4->Flask>=0.12->dash->dash-table==3.1.2) (1.0)\n",
      "Requirement already satisfied: chardet<3.1.0,>=3.0.2 in /home/dsc/anaconda3/lib/python3.6/site-packages (from requests->plotly->dash->dash-table==3.1.2) (3.0.4)\n",
      "Requirement already satisfied: idna<2.6,>=2.5 in /home/dsc/anaconda3/lib/python3.6/site-packages (from requests->plotly->dash->dash-table==3.1.2) (2.5)\n",
      "Requirement already satisfied: certifi>=2017.4.17 in /home/dsc/anaconda3/lib/python3.6/site-packages (from requests->plotly->dash->dash-table==3.1.2) (2018.8.13)\n",
      "Requirement already satisfied: urllib3<1.22,>=1.21.1 in /home/dsc/anaconda3/lib/python3.6/site-packages (from requests->plotly->dash->dash-table==3.1.2) (1.21.1)\n",
      "Requirement already satisfied: ipython_genutils in /home/dsc/anaconda3/lib/python3.6/site-packages (from nbformat>=4.2->plotly->dash->dash-table==3.1.2) (0.2.0)\n"
     ]
    },
    {
     "name": "stdout",
     "output_type": "stream",
     "text": [
      "Requirement already satisfied: traitlets>=4.1 in /home/dsc/anaconda3/lib/python3.6/site-packages (from nbformat>=4.2->plotly->dash->dash-table==3.1.2) (4.3.2)\n",
      "Requirement already satisfied: jsonschema!=2.5.0,>=2.4 in /home/dsc/anaconda3/lib/python3.6/site-packages (from nbformat>=4.2->plotly->dash->dash-table==3.1.2) (2.6.0)\n",
      "Requirement already satisfied: jupyter_core in /home/dsc/anaconda3/lib/python3.6/site-packages (from nbformat>=4.2->plotly->dash->dash-table==3.1.2) (4.4.0)\n",
      "Building wheels for collected packages: dash-table\n",
      "  Running setup.py bdist_wheel for dash-table ... \u001b[?25ldone\n",
      "\u001b[?25h  Stored in directory: /home/dsc/.cache/pip/wheels/6a/e2/3c/da2523e8356974ffd9efe84af2723c57e297306428307640f0\n",
      "Successfully built dash-table\n",
      "Installing collected packages: dash-table\n",
      "Successfully installed dash-table-3.1.2\n",
      "\u001b[33mYou are using pip version 10.0.1, however version 18.1 is available.\n",
      "You should consider upgrading via the 'pip install --upgrade pip' command.\u001b[0m\n"
     ]
    }
   ],
   "source": [
    "! pip install dash==0.28.5  # The core dash backend\n",
    "! pip install dash-html-components==0.13.2  # HTML components\n",
    "! pip install dash-core-components==0.36.0  # Supercharged components\n",
    "! pip install dash-table==3.1.2  # Interactive DataTable component (new!)"
   ]
  },
  {
   "cell_type": "code",
   "execution_count": 7,
   "metadata": {},
   "outputs": [],
   "source": [
    "import dash\n",
    "import dash_core_components as dcc\n",
    "import dash_html_components as html\n",
    "from dash.dependencies import Input, Output\n",
    "from sklearn.externals import joblib\n",
    "import plotly.graph_objs as go\n",
    "import pandas as pd\n",
    "import plotly.graph_objs as go\n",
    "import matplotlib.pyplot as plt\n",
    "from sklearn.externals import joblib"
   ]
  },
  {
   "cell_type": "code",
   "execution_count": 18,
   "metadata": {},
   "outputs": [
    {
     "ename": "NonExistantIdException",
     "evalue": "\nAttempting to assign a callback to the\ncomponent with the id \"result\" but no\ncomponents with id \"result\" exist in the\napp's layout.\n\n\nHere is a list of IDs in layout:\n['text_news']\n\n\nIf you are assigning callbacks to components\nthat are generated by other callbacks\n(and therefore not in the initial layout), then\nyou can suppress this exception by setting\n`app.config['suppress_callback_exceptions']=True`.\n",
     "output_type": "error",
     "traceback": [
      "\u001b[0;31m---------------------------------------------------------------------------\u001b[0m",
      "\u001b[0;31mNonExistantIdException\u001b[0m                    Traceback (most recent call last)",
      "\u001b[0;32m<ipython-input-18-77134abdf68c>\u001b[0m in \u001b[0;36m<module>\u001b[0;34m()\u001b[0m\n\u001b[1;32m     12\u001b[0m @app.callback(\n\u001b[1;32m     13\u001b[0m     \u001b[0mOutput\u001b[0m\u001b[0;34m(\u001b[0m\u001b[0mcomponent_id\u001b[0m\u001b[0;34m=\u001b[0m\u001b[0;34m'result'\u001b[0m\u001b[0;34m,\u001b[0m \u001b[0mcomponent_property\u001b[0m\u001b[0;34m=\u001b[0m\u001b[0;34m'children'\u001b[0m\u001b[0;34m)\u001b[0m\u001b[0;34m,\u001b[0m\u001b[0;34m\u001b[0m\u001b[0m\n\u001b[0;32m---> 14\u001b[0;31m     [Input(component_id='text_news', component_property='value')])\n\u001b[0m\u001b[1;32m     15\u001b[0m \u001b[0;32mdef\u001b[0m \u001b[0mupdate_text_news_input\u001b[0m\u001b[0;34m(\u001b[0m\u001b[0mtext_news\u001b[0m\u001b[0;34m)\u001b[0m\u001b[0;34m:\u001b[0m\u001b[0;34m\u001b[0m\u001b[0m\n\u001b[1;32m     16\u001b[0m     \u001b[0;32mif\u001b[0m \u001b[0mtext_news\u001b[0m \u001b[0;32mis\u001b[0m \u001b[0;32mnot\u001b[0m \u001b[0;32mNone\u001b[0m \u001b[0;32mand\u001b[0m \u001b[0mtext_news\u001b[0m \u001b[0;32mis\u001b[0m \u001b[0;32mnot\u001b[0m \u001b[0;34m''\u001b[0m\u001b[0;34m:\u001b[0m\u001b[0;34m\u001b[0m\u001b[0m\n",
      "\u001b[0;32m~/anaconda3/lib/python3.6/site-packages/dash/dash.py\u001b[0m in \u001b[0;36mcallback\u001b[0;34m(self, output, inputs, state, events)\u001b[0m\n\u001b[1;32m    832\u001b[0m     \u001b[0;31m# pylint: disable=dangerous-default-value\u001b[0m\u001b[0;34m\u001b[0m\u001b[0;34m\u001b[0m\u001b[0m\n\u001b[1;32m    833\u001b[0m     \u001b[0;32mdef\u001b[0m \u001b[0mcallback\u001b[0m\u001b[0;34m(\u001b[0m\u001b[0mself\u001b[0m\u001b[0;34m,\u001b[0m \u001b[0moutput\u001b[0m\u001b[0;34m,\u001b[0m \u001b[0minputs\u001b[0m\u001b[0;34m=\u001b[0m\u001b[0;34m[\u001b[0m\u001b[0;34m]\u001b[0m\u001b[0;34m,\u001b[0m \u001b[0mstate\u001b[0m\u001b[0;34m=\u001b[0m\u001b[0;34m[\u001b[0m\u001b[0;34m]\u001b[0m\u001b[0;34m,\u001b[0m \u001b[0mevents\u001b[0m\u001b[0;34m=\u001b[0m\u001b[0;34m[\u001b[0m\u001b[0;34m]\u001b[0m\u001b[0;34m)\u001b[0m\u001b[0;34m:\u001b[0m\u001b[0;34m\u001b[0m\u001b[0m\n\u001b[0;32m--> 834\u001b[0;31m         \u001b[0mself\u001b[0m\u001b[0;34m.\u001b[0m\u001b[0m_validate_callback\u001b[0m\u001b[0;34m(\u001b[0m\u001b[0moutput\u001b[0m\u001b[0;34m,\u001b[0m \u001b[0minputs\u001b[0m\u001b[0;34m,\u001b[0m \u001b[0mstate\u001b[0m\u001b[0;34m,\u001b[0m \u001b[0mevents\u001b[0m\u001b[0;34m)\u001b[0m\u001b[0;34m\u001b[0m\u001b[0m\n\u001b[0m\u001b[1;32m    835\u001b[0m \u001b[0;34m\u001b[0m\u001b[0m\n\u001b[1;32m    836\u001b[0m         callback_id = '{}.{}'.format(\n",
      "\u001b[0;32m~/anaconda3/lib/python3.6/site-packages/dash/dash.py\u001b[0m in \u001b[0;36m_validate_callback\u001b[0;34m(self, output, inputs, state, events)\u001b[0m\n\u001b[1;32m    635\u001b[0m                             \u001b[0;34m[\u001b[0m\u001b[0mlayout\u001b[0m\u001b[0;34m.\u001b[0m\u001b[0mid\u001b[0m\u001b[0;34m]\u001b[0m\u001b[0;34m\u001b[0m\u001b[0m\n\u001b[1;32m    636\u001b[0m                         )\n\u001b[0;32m--> 637\u001b[0;31m                     ).replace('    ', ''))\n\u001b[0m\u001b[1;32m    638\u001b[0m \u001b[0;34m\u001b[0m\u001b[0m\n\u001b[1;32m    639\u001b[0m                 if not self.config.first('suppress_callback_exceptions',\n",
      "\u001b[0;31mNonExistantIdException\u001b[0m: \nAttempting to assign a callback to the\ncomponent with the id \"result\" but no\ncomponents with id \"result\" exist in the\napp's layout.\n\n\nHere is a list of IDs in layout:\n['text_news']\n\n\nIf you are assigning callbacks to components\nthat are generated by other callbacks\n(and therefore not in the initial layout), then\nyou can suppress this exception by setting\n`app.config['suppress_callback_exceptions']=True`.\n"
     ]
    }
   ],
   "source": [
    "app = dash.Dash()\n",
    "\n",
    "app.layout = html.Div(children=[\n",
    "    html.H1(children='Simple Linear Regression', style={'textAlign': 'center'}),\n",
    "\n",
    "    html.Div(children=[\n",
    "        html.Label('Text_news: '),\n",
    "    ], style={'textAlign': 'center'}),\n",
    "    dcc.Input(id='text_news', placeholder='text news', type='text')   \n",
    "])\n",
    "\n",
    "@app.callback(\n",
    "    Output(component_id='result', component_property='children'),\n",
    "    [Input(component_id='text_news', component_property='value')])\n",
    "def update_text_news_input(text_news):\n",
    "    if text_news is not None and text_news is not '':\n",
    "        try:\n",
    "            salary = model.predict(text_news)\n",
    "            return 'The text news is classified as${:,.2f}'.format(years_of_experience, salary, 2)\n",
    "        except ValueError:\n",
    "            return 'Unable to give classify the text news'\n",
    "\n",
    "if __name__ == '__main__':\n",
    "    model = joblib.load(\"./python_naive_bayes_model.pkl\")\n",
    "    app.run_server(debug=False)\n",
    "    \n"
   ]
  },
  {
   "cell_type": "code",
   "execution_count": 11,
   "metadata": {},
   "outputs": [
    {
     "name": "stderr",
     "output_type": "stream",
     "text": [
      " * Running on http://127.0.0.1:8050/ (Press CTRL+C to quit)\n",
      "127.0.0.1 - - [07/Nov/2018 22:43:48] \"GET / HTTP/1.1\" 200 -\n",
      "127.0.0.1 - - [07/Nov/2018 22:43:50] \"GET /_dash-layout HTTP/1.1\" 200 -\n",
      "127.0.0.1 - - [07/Nov/2018 22:43:50] \"GET /_dash-dependencies HTTP/1.1\" 200 -\n",
      "127.0.0.1 - - [07/Nov/2018 22:43:50] \"GET /_favicon.ico HTTP/1.1\" 200 -\n"
     ]
    }
   ],
   "source": [
    "external_stylesheets = ['https://codepen.io/chriddyp/pen/bWLwgP.css']\n",
    "app = dash.Dash(__name__, external_stylesheets=external_stylesheets)\n",
    "\n",
    "app.layout = html.Div(children=[\n",
    "    html.H1(children='Simple Linear Regression', style={'textAlign': 'center'}),\n",
    "\n",
    "    html.Div(children=[\n",
    "        html.Label('Enter years of experience: '),\n",
    "    ], style={'textAlign': 'center'}),\n",
    "])\n",
    "\n",
    "if __name__ == '__main__':\n",
    "    model = joblib.load(\"./python_naive_bayes_model.pkl\")\n",
    "    app.run_server(debug=False)"
   ]
  },
  {
   "cell_type": "code",
   "execution_count": null,
   "metadata": {},
   "outputs": [],
   "source": [
    "import dash\n",
    "import dash_core_components as dcc\n",
    "import dash_html_components as html\n",
    "from dash.dependencies import Input, Output\n",
    "from sklearn.externals import joblib\n",
    "import plotly.graph_objs as go\n",
    "import pandas as pd\n",
    "import plotly.graph_objs as go\n",
    "import matplotlib.pyplot as plt\n",
    "\n",
    "df = pd.read_csv('https://github.com/paquinho89/TFM/blob/master/data/dataset_news.csv')\n",
    "\n",
    "external_stylesheets = ['https://codepen.io/chriddyp/pen/bWLwgP.css']\n",
    "app = dash.Dash(__name__, external_stylesheets=external_stylesheets)\n",
    "\n",
    "df = pd.read_csv(\n",
    "    'https://github.com/paquinho89/TFM/blob/master/data/dataset_news.csv')\n",
    "\n",
    "app.layout = html.Div([\n",
    "    html.Label('Dropdown'),\n",
    "    dcc.Dropdown(\n",
    "        options=[\n",
    "            {'label': 'abc-news', 'value': 'abc-news'},\n",
    "            {'label': 'al-jazeera-english', 'value': 'al-jazeera-english'}\n",
    "        ],\n",
    "        value='abc-news'\n",
    "    ),\n",
    "\n",
    "    \n",
    "], style={'columnCount': 2})\n",
    "\n",
    "if __name__ == '__main__':\n",
    "    app.run_server(debug=False)"
   ]
  },
  {
   "cell_type": "code",
   "execution_count": 3,
   "metadata": {},
   "outputs": [
    {
     "name": "stderr",
     "output_type": "stream",
     "text": [
      " * Running on http://127.0.0.1:8050/ (Press CTRL+C to quit)\n",
      "127.0.0.1 - - [06/Nov/2018 20:56:28] \"GET / HTTP/1.1\" 200 -\n",
      "127.0.0.1 - - [06/Nov/2018 20:56:33] \"GET /_dash-layout HTTP/1.1\" 200 -\n",
      "127.0.0.1 - - [06/Nov/2018 20:56:33] \"GET /_dash-dependencies HTTP/1.1\" 200 -\n"
     ]
    }
   ],
   "source": [
    "#Facemos on desplegable con tódalas posibles noticias que hai para seleccionar a túa fonte raíz da noticia.\n",
    "import dash\n",
    "import dash_core_components as dcc\n",
    "import dash_html_components as html\n",
    "import pandas as pd\n",
    "\n",
    "external_stylesheets = ['https://codepen.io/chriddyp/pen/bWLwgP.css']\n",
    "app = dash.Dash(__name__, external_stylesheets=external_stylesheets)\n",
    "\n",
    "app.layout= html.Div([\n",
    "    html.Label('Dropdown'),\n",
    "    dcc.Dropdown(\n",
    "        options=[\n",
    "            {'label': 'abc-news', 'value': 'abc-news'},\n",
    "            {'label': 'al-jazeera-english', 'value': 'al-jazeera-english'}\n",
    "        ],\n",
    "        value='abc_news'\n",
    "    )\n",
    "])\n",
    "\n",
    "if __name__ == '__main__':\n",
    "    app.run_server(debug=False)\n",
    "    "
   ]
  },
  {
   "cell_type": "code",
   "execution_count": 1,
   "metadata": {},
   "outputs": [
    {
     "name": "stderr",
     "output_type": "stream",
     "text": [
      " * Running on http://127.0.0.1:8050/ (Press CTRL+C to quit)\n",
      "127.0.0.1 - - [06/Nov/2018 20:26:40] \"GET / HTTP/1.1\" 200 -\n",
      "127.0.0.1 - - [06/Nov/2018 20:26:44] \"GET /_dash-layout HTTP/1.1\" 200 -\n",
      "127.0.0.1 - - [06/Nov/2018 20:26:44] \"GET /_dash-dependencies HTTP/1.1\" 200 -\n"
     ]
    }
   ],
   "source": [
    "import dash\n",
    "import dash_core_components as dcc\n",
    "import dash_html_components as html\n",
    "import pandas as pd\n",
    "\n",
    "\n",
    "#Generamos un gráfico que será o gráfico nde se mostran as palabras clasificadas\n",
    "external_stylesheets = ['https://codepen.io/chriddyp/pen/bWLwgP.css']\n",
    "bar_graph = dash.Dash(__name__, external_stylesheets=external_stylesheets)\n",
    "\n",
    "bar_graph.layout = html.Div(children=[\n",
    "    html.H1(children=\"What's happening today?\"),\n",
    "\n",
    "    html.Div(children='''\n",
    "        The following graphs show a brief analysis of the news\n",
    "    '''),\n",
    "\n",
    "    dcc.Graph(\n",
    "        id='example-graph',\n",
    "        figure={\n",
    "            'data': [\n",
    "                {'x': [1, 2, 3], 'y': [4, 1, 2], 'type': 'bar', 'name': 'SF'},\n",
    "                {'x': [1, 2, 3], 'y': [2, 4, 5], 'type': 'bar', 'name': u'Montréal'},\n",
    "            ],\n",
    "            'layout': {\n",
    "                'title': 'News classificator'\n",
    "            }\n",
    "        }\n",
    "    )\n",
    "])\n",
    "\n",
    "if __name__ == '__main__':\n",
    "\n",
    "    bar_graph.run_server(debug=False)"
   ]
  },
  {
   "cell_type": "code",
   "execution_count": null,
   "metadata": {},
   "outputs": [
    {
     "name": "stderr",
     "output_type": "stream",
     "text": [
      " * Running on http://127.0.0.1:8050/ (Press CTRL+C to quit)\n",
      "127.0.0.1 - - [06/Nov/2018 20:21:26] \"GET / HTTP/1.1\" 200 -\n",
      "127.0.0.1 - - [06/Nov/2018 20:21:28] \"GET /_dash-layout HTTP/1.1\" 200 -\n",
      "127.0.0.1 - - [06/Nov/2018 20:21:28] \"GET /_dash-dependencies HTTP/1.1\" 200 -\n",
      " * Running on http://127.0.0.1:8050/ (Press CTRL+C to quit)\n",
      "127.0.0.1 - - [06/Nov/2018 20:24:38] \"GET / HTTP/1.1\" 200 -\n",
      "127.0.0.1 - - [06/Nov/2018 20:24:42] \"GET /_dash-layout HTTP/1.1\" 200 -\n",
      "127.0.0.1 - - [06/Nov/2018 20:24:42] \"GET /_dash-dependencies HTTP/1.1\" 200 -\n"
     ]
    }
   ],
   "source": [
    "#Genermoos unha tabla\n",
    "table = dash.Dash(__name__, external_stylesheets=external_stylesheets)\n",
    "\n",
    "df = pd.read_csv(\n",
    "    'https://gist.githubusercontent.com/chriddyp/'\n",
    "    'c78bf172206ce24f77d6363a2d754b59/raw/'\n",
    "    'c353e8ef842413cae56ae3920b8fd78468aa4cb2/'\n",
    "    'usa-agricultural-exports-2011.csv')\n",
    "\n",
    "\n",
    "def generate_table(dataframe, max_rows=10):\n",
    "    return html.Table(\n",
    "        # Header\n",
    "        [html.Tr([html.Th(col) for col in dataframe.columns])] +\n",
    "\n",
    "        # Body\n",
    "        [html.Tr([\n",
    "            html.Td(dataframe.iloc[i][col]) for col in dataframe.columns\n",
    "        ]) for i in range(min(len(dataframe), max_rows))]\n",
    "    )\n",
    "\n",
    "table.layout = html.Div(children=[\n",
    "    html.H4(children='US Agriculture Exports (2011)'),\n",
    "    generate_table(df)\n",
    "])\n",
    "\n",
    "if __name__ == '__main__':\n",
    "\n",
    "    #Se execuutas este código dende  jupyter o debug ten que ser igual a False.\n",
    "    table.run_server(debug=False)\n"
   ]
  },
  {
   "cell_type": "code",
   "execution_count": 2,
   "metadata": {},
   "outputs": [
    {
     "ename": "SystemExit",
     "evalue": "1",
     "output_type": "error",
     "traceback": [
      "\u001b[0;31m---------------------------------------------------------------------------\u001b[0m",
      "\u001b[0;31mSystemExit\u001b[0m                                Traceback (most recent call last)",
      "\u001b[0;32m<ipython-input-1-4f682dc74399>\u001b[0m in \u001b[0;36m<module>\u001b[0;34m()\u001b[0m\n\u001b[1;32m     30\u001b[0m \u001b[0;34m\u001b[0m\u001b[0m\n\u001b[1;32m     31\u001b[0m \u001b[0;32mif\u001b[0m \u001b[0m__name__\u001b[0m \u001b[0;34m==\u001b[0m \u001b[0;34m'__main__'\u001b[0m\u001b[0;34m:\u001b[0m\u001b[0;34m\u001b[0m\u001b[0m\n\u001b[0;32m---> 32\u001b[0;31m     \u001b[0mapp\u001b[0m\u001b[0;34m.\u001b[0m\u001b[0mrun_server\u001b[0m\u001b[0;34m(\u001b[0m\u001b[0mdebug\u001b[0m\u001b[0;34m=\u001b[0m\u001b[0;32mTrue\u001b[0m\u001b[0;34m)\u001b[0m\u001b[0;34m\u001b[0m\u001b[0m\n\u001b[0m\u001b[1;32m     33\u001b[0m \u001b[0;34m\u001b[0m\u001b[0m\n",
      "\u001b[0;32m~/anaconda3/lib/python3.6/site-packages/dash/dash.py\u001b[0m in \u001b[0;36mrun_server\u001b[0;34m(self, port, debug, dev_tools_serve_dev_bundles, **flask_run_options)\u001b[0m\n\u001b[1;32m   1059\u001b[0m         \u001b[0mdebug\u001b[0m \u001b[0;34m=\u001b[0m \u001b[0mself\u001b[0m\u001b[0;34m.\u001b[0m\u001b[0menable_dev_tools\u001b[0m\u001b[0;34m(\u001b[0m\u001b[0mdebug\u001b[0m\u001b[0;34m,\u001b[0m \u001b[0mdev_tools_serve_dev_bundles\u001b[0m\u001b[0;34m)\u001b[0m\u001b[0;34m\u001b[0m\u001b[0m\n\u001b[1;32m   1060\u001b[0m         self.server.run(port=port, debug=debug,\n\u001b[0;32m-> 1061\u001b[0;31m                         **flask_run_options)\n\u001b[0m",
      "\u001b[0;32m~/anaconda3/lib/python3.6/site-packages/flask/app.py\u001b[0m in \u001b[0;36mrun\u001b[0;34m(self, host, port, debug, **options)\u001b[0m\n\u001b[1;32m    839\u001b[0m         \u001b[0moptions\u001b[0m\u001b[0;34m.\u001b[0m\u001b[0msetdefault\u001b[0m\u001b[0;34m(\u001b[0m\u001b[0;34m'use_debugger'\u001b[0m\u001b[0;34m,\u001b[0m \u001b[0mself\u001b[0m\u001b[0;34m.\u001b[0m\u001b[0mdebug\u001b[0m\u001b[0;34m)\u001b[0m\u001b[0;34m\u001b[0m\u001b[0m\n\u001b[1;32m    840\u001b[0m         \u001b[0;32mtry\u001b[0m\u001b[0;34m:\u001b[0m\u001b[0;34m\u001b[0m\u001b[0m\n\u001b[0;32m--> 841\u001b[0;31m             \u001b[0mrun_simple\u001b[0m\u001b[0;34m(\u001b[0m\u001b[0mhost\u001b[0m\u001b[0;34m,\u001b[0m \u001b[0mport\u001b[0m\u001b[0;34m,\u001b[0m \u001b[0mself\u001b[0m\u001b[0;34m,\u001b[0m \u001b[0;34m**\u001b[0m\u001b[0moptions\u001b[0m\u001b[0;34m)\u001b[0m\u001b[0;34m\u001b[0m\u001b[0m\n\u001b[0m\u001b[1;32m    842\u001b[0m         \u001b[0;32mfinally\u001b[0m\u001b[0;34m:\u001b[0m\u001b[0;34m\u001b[0m\u001b[0m\n\u001b[1;32m    843\u001b[0m             \u001b[0;31m# reset the first request information if the development server\u001b[0m\u001b[0;34m\u001b[0m\u001b[0;34m\u001b[0m\u001b[0m\n",
      "\u001b[0;32m~/anaconda3/lib/python3.6/site-packages/werkzeug/serving.py\u001b[0m in \u001b[0;36mrun_simple\u001b[0;34m(hostname, port, application, use_reloader, use_debugger, use_evalex, extra_files, reloader_interval, reloader_type, threaded, processes, request_handler, static_files, passthrough_errors, ssl_context)\u001b[0m\n\u001b[1;32m    810\u001b[0m         \u001b[0;32mfrom\u001b[0m \u001b[0mwerkzeug\u001b[0m\u001b[0;34m.\u001b[0m\u001b[0m_reloader\u001b[0m \u001b[0;32mimport\u001b[0m \u001b[0mrun_with_reloader\u001b[0m\u001b[0;34m\u001b[0m\u001b[0m\n\u001b[1;32m    811\u001b[0m         run_with_reloader(inner, extra_files, reloader_interval,\n\u001b[0;32m--> 812\u001b[0;31m                           reloader_type)\n\u001b[0m\u001b[1;32m    813\u001b[0m     \u001b[0;32melse\u001b[0m\u001b[0;34m:\u001b[0m\u001b[0;34m\u001b[0m\u001b[0m\n\u001b[1;32m    814\u001b[0m         \u001b[0minner\u001b[0m\u001b[0;34m(\u001b[0m\u001b[0;34m)\u001b[0m\u001b[0;34m\u001b[0m\u001b[0m\n",
      "\u001b[0;32m~/anaconda3/lib/python3.6/site-packages/werkzeug/_reloader.py\u001b[0m in \u001b[0;36mrun_with_reloader\u001b[0;34m(main_func, extra_files, interval, reloader_type)\u001b[0m\n\u001b[1;32m    273\u001b[0m             \u001b[0mreloader\u001b[0m\u001b[0;34m.\u001b[0m\u001b[0mrun\u001b[0m\u001b[0;34m(\u001b[0m\u001b[0;34m)\u001b[0m\u001b[0;34m\u001b[0m\u001b[0m\n\u001b[1;32m    274\u001b[0m         \u001b[0;32melse\u001b[0m\u001b[0;34m:\u001b[0m\u001b[0;34m\u001b[0m\u001b[0m\n\u001b[0;32m--> 275\u001b[0;31m             \u001b[0msys\u001b[0m\u001b[0;34m.\u001b[0m\u001b[0mexit\u001b[0m\u001b[0;34m(\u001b[0m\u001b[0mreloader\u001b[0m\u001b[0;34m.\u001b[0m\u001b[0mrestart_with_reloader\u001b[0m\u001b[0;34m(\u001b[0m\u001b[0;34m)\u001b[0m\u001b[0;34m)\u001b[0m\u001b[0;34m\u001b[0m\u001b[0m\n\u001b[0m\u001b[1;32m    276\u001b[0m     \u001b[0;32mexcept\u001b[0m \u001b[0mKeyboardInterrupt\u001b[0m\u001b[0;34m:\u001b[0m\u001b[0;34m\u001b[0m\u001b[0m\n\u001b[1;32m    277\u001b[0m         \u001b[0;32mpass\u001b[0m\u001b[0;34m\u001b[0m\u001b[0m\n",
      "\u001b[0;31mSystemExit\u001b[0m: 1"
     ]
    }
   ],
   "source": [
    "%tb"
   ]
  },
  {
   "cell_type": "code",
   "execution_count": 35,
   "metadata": {},
   "outputs": [],
   "source": [
    "! lsof -i :8000"
   ]
  },
  {
   "cell_type": "code",
   "execution_count": 29,
   "metadata": {},
   "outputs": [
    {
     "name": "stdout",
     "output_type": "stream",
     "text": [
      "python: can't open file 'app.py': [Errno 2] No such file or directory\r\n"
     ]
    }
   ],
   "source": [
    "! python app.py"
   ]
  }
 ],
 "metadata": {
  "kernelspec": {
   "display_name": "Python 3",
   "language": "python",
   "name": "python3"
  },
  "language_info": {
   "codemirror_mode": {
    "name": "ipython",
    "version": 3
   },
   "file_extension": ".py",
   "mimetype": "text/x-python",
   "name": "python",
   "nbconvert_exporter": "python",
   "pygments_lexer": "ipython3",
   "version": "3.6.4"
  }
 },
 "nbformat": 4,
 "nbformat_minor": 2
}
