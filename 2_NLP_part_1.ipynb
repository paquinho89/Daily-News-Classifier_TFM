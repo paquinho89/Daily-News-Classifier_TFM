{
 "cells": [
  {
   "cell_type": "markdown",
   "metadata": {},
   "source": [
    "# __**BLOCK 2**__"
   ]
  },
  {
   "cell_type": "markdown",
   "metadata": {},
   "source": [
    "# 2. Natural Language Processing for a piece of news\n",
    "## Morphological analysis and translation"
   ]
  },
  {
   "cell_type": "markdown",
   "metadata": {},
   "source": [
    "##### The code of this notebook was used to create the Dash interface part 1. See the \"4_Dash_framework_part_1.ipynb\" notebook"
   ]
  },
  {
   "cell_type": "markdown",
   "metadata": {},
   "source": [
    "For the analysis of the text itself, the **TextBlob** module is going to be used.\n",
    "\n",
    "The **TextBlob** is a processing text library for Python, which allows to perform different Natural Language Processing tasks such as morphological analysis, entities extraction, opinion analysis, translation...\n",
    "\n",
    "For this part of the project, only the morphological analysis and translation will be used.\n",
    "\n",
    "**TextBlob** is built over two famous Python libraries: NLTK and pattern. The main advantage of **TextBlob** is the combinations of the previous tools in a more friendly interface.\n",
    "\n",
    "TextBlob works only in English.\n",
    "\n",
    "**To use TextBlob, the below code should be executed to install the package**"
   ]
  },
  {
   "cell_type": "code",
   "execution_count": null,
   "metadata": {},
   "outputs": [],
   "source": [
    "#The packages for textblob are installed\n",
    "\n",
    "!pip install textblob"
   ]
  },
  {
   "cell_type": "code",
   "execution_count": null,
   "metadata": {},
   "outputs": [],
   "source": [
    "from textblob import TextBlob\n",
    "from collections import Counter\n",
    "import matplotlib.pyplot as plt\n",
    "import pandas as pd\n",
    "import numpy as np"
   ]
  },
  {
   "cell_type": "code",
   "execution_count": null,
   "metadata": {},
   "outputs": [],
   "source": [
    "text_news=\"\"\"Robbie Rotten, has died aged 43 from cancer. Stefansson was best known for his role on the children's show,\n",
    "which was produced from 2004 to 2014. He was initially diagnosed with pancreatic cancer in 2016, but said it had been\n",
    "removed with surgery. He often shared his treatment and progress with fans online on social media - announcing in March \n",
    "the disease had returned and was inoperable. \\\"It's not until they tell you you're going to die soon that you realise \n",
    "how short life is. Time is the most valuable thing in life because it never comes back. And whether you spend it in the \n",
    "arms of a loved one or alone in a prison cell, life is what you make of it. Dream big,\\\" he posted to Twitter. In June \n",
    "his wife Steinunn Olina revealed the father-of-four's cancer was in its final stages. All done with chemo for now.\n",
    "\\xed��\\xed�\\u008a #allover #happy #happyplantdad A post shared by  Stefán Karl Stefánsson (@stefanssonkarl) on \n",
    "Feb 22, 2017 at 12:56pm PST End of Instagram post  by stefanssonkarl A post on Tuesday paid tribute to her husband, \n",
    "and said the family would follow his wishes to scatter his remains at sea. \\\"Stefan's family wants to express their \n",
    "gratitude for the support and warmth received in recent years, and to express their deepest sympathy to the many friends \n",
    "and fans of Stefan Karl,\\\" she posted. The actor spent his early career working in film and theatre - playing the title \n",
    "role in How the Grinch Stole Christmas in the US from 2008-2015. LazyTown was produced from 2004-2007, with more episodes\n",
    "made in 2013 and 2014. It followed the life of a pink-haired eight-year-old girl named Stephanie and her superhero \n",
    "companion Sportacus, who attempt to liven up an inactive town she moved to. The character of Robbie Rotten was the \n",
    "show's villain and attempted to thwart their schemes, preferring to stay unhealthy. The show, produced in Iceland, was\n",
    "translated into dozens of languages and aired in more than 180 countries worldwide. Fans who grew up with the show \n",
    "shared their sadness at the news of Stefansson's death on social media. This has been literally the saddest day on the \n",
    "internet since Satoru Iwata passed away. Rest in Piece, Stefan Karl (aka Robbie Rotten). End of Twitter post  by \n",
    "@mayhem_crimson I spent many hours with my younger siblings watching you years ago and ive lost count of how many times \n",
    "you made us laugh and smile uncontrollably. Thank you for all the joy you brought us and people everywhere. Rest in \n",
    "Peace Robbie Rotten. pic.twitter.com/0lXwMc7miX End of Twitter post  by @smg4official Farewell, Robbie Rotten. Hope you\n",
    "finally get to be lazy without those pesky kids exercising around you 24/7. You were a fantastic, funny character. \n",
    "RIP Stefan Karl Stefansson pic.twitter.com/A9GazKA0sL End of Twitter post  by @EpicVoiceGuy The character's popularity\n",
    "has continued online in recent years, where his exuberant facial expressions are frequently used in memes. Michael Cohen\n",
    "admitted violating campaign finance laws, but Mr Trump says he has\"\"\""
   ]
  },
  {
   "cell_type": "markdown",
   "metadata": {},
   "source": [
    "## 2.1 Preparing the data"
   ]
  },
  {
   "cell_type": "code",
   "execution_count": null,
   "metadata": {},
   "outputs": [],
   "source": [
    "text_news_2 = TextBlob(text_news)\n",
    "#Number of words\n",
    "print('The number of words in the text is', (len(text_news_2.words)))\n",
    "#Number of sentences\n",
    "print('The number of sentences in the text is',len(text_news_2.sentences))\n",
    "#Priting the text\n",
    "print(text_news_2.sentences)"
   ]
  },
  {
   "cell_type": "code",
   "execution_count": null,
   "metadata": {},
   "outputs": [],
   "source": [
    "#The text is divided in words and each word is analyzed morphologically\n",
    "words_analysis = text_news_2.parse().split()"
   ]
  },
  {
   "cell_type": "markdown",
   "metadata": {},
   "source": [
    "## 2.2 Morphological classification of the words"
   ]
  },
  {
   "cell_type": "code",
   "execution_count": null,
   "metadata": {},
   "outputs": [],
   "source": [
    "#A counter is created\n",
    "class_word=[]\n",
    "for i0 in words_analysis:\n",
    "    for i1 in i0:\n",
    "        class_word.append(i1[1])\n",
    "count_class_word=Counter(class_word)\n",
    "\n",
    "#Punctuations symbols are deleted from the text.\n",
    "symbols = '''@\"{}()[].,:;+-*/&|'<>=~#$%€\\ºª_?¿!¡'''\n",
    "\n",
    "for x in symbols:\n",
    "    if x in count_class_word:\n",
    "        del count_class_word[x]  \n",
    "count_class_word"
   ]
  },
  {
   "cell_type": "markdown",
   "metadata": {},
   "source": [
    "## 2.3 Representing the data"
   ]
  },
  {
   "cell_type": "code",
   "execution_count": null,
   "metadata": {},
   "outputs": [],
   "source": [
    "#The items of the count_class_word are putted in a list and then represented.\n",
    "list_class_word=list((count_class_word.items()))\n",
    "#The data is sorted\n",
    "list_class_word_sorted=sorted(list_class_word, key=lambda x: x[1], reverse=True)\n",
    "#Labels for each category are tagged\n",
    "tag_words={'CC':'coordinating conjunction', 'CD':'cardinal digit', 'DT':'determiner',\n",
    "          'EX':'existential there', 'FW':'foreign word', 'IN':'preposition/subordinating conjunction',\n",
    "          'JJ':'adjective', 'JJR':'adjective, comparative', 'JJS':'adjective, superlative',\n",
    "          'LS':'list marker','MD':'modal', 'NN':'noun, singular', 'NNS':'noun plural',\n",
    "          'NNP':'proper noun, singular', 'NNPS':'proper noun, plural','PDT':'predeterminer',\n",
    "          'POS':'possessive ending','PRP':'personal pronoun','PRP$':'possessive pronoun',\n",
    "          'RB':'adver','RBR':'adverb, comparative','RBS':'adverb, superlative', 'RP':'particle',\n",
    "          'TO':'to','UH':'interjection','VB':'verb, base form','VBD':'verb, past tense',\n",
    "          'VBG':'verb, gerund/present participle','VBN':'verb, past participle',\n",
    "          'VBP':'verb, sing. present, non-3d','VBZ':'verb, 3rd person sing. present',\n",
    "          'WDT':'wh-determiner','WP':'wh-pronoun','WP$':'possessive wh-pronoun','WRB':'wh-abverb'}\n",
    "#The labels and the values are plotted\n",
    "plt.bar([tag_words.get(label)for label in[label[0] for label in list_class_word]], [label[1] for label in list_class_word_sorted])\n",
    "plt.xticks(rotation='vertical')\n",
    "plt.figure(figsize=(15,15))"
   ]
  },
  {
   "cell_type": "markdown",
   "metadata": {},
   "source": [
    "For more information relating to the kind of word see the\n",
    "POS tag list:\n",
    "\n",
    "**CC** coordinating conjunction<br>\n",
    "**CD** cardinal digit<br>\n",
    "**DT** determiner<br>\n",
    "**EX** existential: 'there' (like: \"there is\" ... think of it like \"there exists\")<br>\n",
    "**FW** foreign word<br>\n",
    "**IN** preposition/subordinating conjunction<br>\n",
    "**JJ** adjective: 'big'<br>\n",
    "**JJR** adjective, comparative: 'bigger'<br>\n",
    "**JJS** adjective, superlative: 'biggest'<br>\n",
    "**LS** list marker: '1)'<br>\n",
    "**MD** modal: 'could', 'will'<br>\n",
    "**NN** noun, singular: 'desk'<br>\n",
    "**NNS** noun plural: 'desks'<br>\n",
    "**NNP** proper noun, singular: 'Harrison'<br>\n",
    "**NNPS** proper noun, plural: 'Americans'<br>\n",
    "**PDT** predeterminer: 'all the kids'<br>\n",
    "**POS** possessive ending: 'parent\\'s'<br>\n",
    "**PRP** personal pronoun: 'I', 'he', 'she'<br>\n",
    "**PRP** possessive pronoun: 'my', 'his', 'hers'<br>\n",
    "**RB** adverb: 'very', 'silently'<br>\n",
    "**RBR** adverb,comparative: 'better'<br>\n",
    "**RBS** adverb,superlative: 'best'<br>\n",
    "**RP** particle: 'give up'<br>\n",
    "**TO**: 'to go′to′the store'.<br>\n",
    "**UH** interjection: 'errrrrrrrm'<br>\n",
    "**VB** verb, base form: 'take'<br>\n",
    "**VBD** verb, past tense: 'took'<br>\n",
    "**VBG** verb, gerund/present participle: 'taking'<br>\n",
    "**VBN** verb,past participle: 'taken'<br>\n",
    "**VBP** verb, sing.present, non−3d: 'take'<br>\n",
    "**VBZ** verb, 3rd personsing. present: 'takes'<br>\n",
    "**WDT** wh−determiner: 'which'<br>\n",
    "**WP** wh−pronoun: 'who', 'what'<br>\n",
    "**WPP** possessive wh-pronoun: 'whose'<br>\n",
    "**WRB** wh-abverb: 'where', 'when'"
   ]
  },
  {
   "cell_type": "markdown",
   "metadata": {},
   "source": [
    "## 2.4 Translating the text"
   ]
  },
  {
   "cell_type": "code",
   "execution_count": null,
   "metadata": {},
   "outputs": [],
   "source": [
    "#A translation is performed.\n",
    "text_news_2 = TextBlob(text_news)\n",
    "print(text_news_2.translate(from_lang=\"en\", to=\"gl\"))\n"
   ]
  }
 ],
 "metadata": {
  "kernelspec": {
   "display_name": "Python 3",
   "language": "python",
   "name": "python3"
  },
  "language_info": {
   "codemirror_mode": {
    "name": "ipython",
    "version": 3
   },
   "file_extension": ".py",
   "mimetype": "text/x-python",
   "name": "python",
   "nbconvert_exporter": "python",
   "pygments_lexer": "ipython3",
   "version": "3.6.4"
  }
 },
 "nbformat": 4,
 "nbformat_minor": 2
}
